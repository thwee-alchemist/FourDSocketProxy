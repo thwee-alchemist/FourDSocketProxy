{
 "cells": [
  {
   "cell_type": "markdown",
   "metadata": {},
   "source": [
    "# Babel Experiments\n",
    "Hopefully this AST generator and Javascript Traverser will prove saner than some of the alternatives. "
   ]
  },
  {
   "cell_type": "code",
   "execution_count": null,
   "metadata": {},
   "outputs": [],
   "source": [
    "var SIZE = 20;\n",
    "\n",
    "module.exports = function(babel) {\n",
    "  var t = babel.types;\n",
    "  \n",
    "  var fourd = require('./FourDSocketProxyServer.js')().then(fourd =>{\n",
    "    fourd.clear();\n",
    "    return fourd;\n",
    "  });\n",
    "  \n",
    "  var stack = [];\n",
    "  \n",
    "  \n",
    "  return {\n",
    "    visitor: {\n",
    "      Node: function(node){\n",
    "        node.vertex = fourd.graph.add_vertex({label: {text: node.toString()}});\n",
    "        parent = stack.slice(0);\n",
    "        stack.push(node);\n",
    "      }\n",
    "    }\n",
    "  };\n",
    "};\n",
    "\n"
   ]
  },
  {
   "cell_type": "code",
   "execution_count": null,
   "metadata": {},
   "outputs": [],
   "source": []
  }
 ],
 "metadata": {
  "kernelspec": {
   "display_name": "Javascript (Node.js)",
   "language": "javascript",
   "name": "javascript"
  },
  "language_info": {
   "file_extension": ".js",
   "mimetype": "application/javascript",
   "name": "javascript",
   "version": "8.10.0"
  }
 },
 "nbformat": 4,
 "nbformat_minor": 2
}
