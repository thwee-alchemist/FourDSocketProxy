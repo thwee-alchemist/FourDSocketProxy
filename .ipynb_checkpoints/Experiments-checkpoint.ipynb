{
 "cells": [
  {
   "cell_type": "markdown",
   "metadata": {},
   "source": [
    "# Experiments\n",
    "\n",
    "[Joshua Marshall Moore](mailto:moore.joshua@pm.me)\n",
    "\n",
    "May 18th, 2018"
   ]
  },
  {
   "cell_type": "markdown",
   "metadata": {},
   "source": [
    "## Round 1"
   ]
  },
  {
   "cell_type": "code",
   "execution_count": 1,
   "metadata": {},
   "outputs": [],
   "source": [
    "var fetch_fourd = require('./FourDSocketProxyServer.js');"
   ]
  },
  {
   "cell_type": "code",
   "execution_count": 8,
   "metadata": {},
   "outputs": [
    {
     "name": "stdout",
     "output_type": "stream",
     "text": [
      "server listening at http://localhost:63177\n",
      "0 1\n",
      "0\n"
     ]
    },
    {
     "name": "stderr",
     "output_type": "stream",
     "text": [
      "ReferenceError: id is not defined\n",
      "    at FourDMirror.remove_vertex (C:\\Users\\Joshua\\FourDSocketProxy\\FourDMirror.js:17:28)\n",
      "    at FourD.remove_vertex (C:\\Users\\Joshua\\FourDSocketProxy\\FourDSocketProxyServer.js:67:21)\n",
      "    at Timeout.setTimeout [as _onTimeout] (evalmachine.<anonymous>:13:19)\n",
      "    at ontimeout (timers.js:475:11)\n",
      "    at tryOnTimeout (timers.js:310:5)\n",
      "    at Timer.listOnTimeout (timers.js:270:5)"
     ]
    }
   ],
   "source": [
    "var fd;\n",
    "fetch_fourd().then(fourd => {\n",
    "    var fd = fourd;\n",
    "    var a = fourd.add_vertex({cube: {size: 10, color: 0x000000}});\n",
    "    var b = fourd.add_vertex({cube: {size: 10, color: 0x000000}});\n",
    "    console.log(a, b);\n",
    "    var e = fourd.add_edge(a, b);\n",
    "    console.log(e);\n",
    "    \n",
    "    setTimeout(() => {\n",
    "        fourd.remove_edge(e);\n",
    "        setTimeout(() => {\n",
    "            fourd.remove_vertex(a);\n",
    "            fourd.remove_vertex(b);\n",
    "        }, 2000);\n",
    "    }, 3000);\n",
    "});"
   ]
  },
  {
   "cell_type": "markdown",
   "metadata": {},
   "source": [
    "## Round 2"
   ]
  },
  {
   "cell_type": "code",
   "execution_count": 9,
   "metadata": {},
   "outputs": [
    {
     "ename": "TypeError",
     "evalue": "Cannot read property 'add_vertex' of undefined",
     "execution_count": 9,
     "output_type": "error",
     "traceback": [
      "evalmachine.<anonymous>:2",
      "  first_vertex = fd.add_vertex({cube: {size: 10, color: 0x000000}}),",
      "                    ^",
      "",
      "TypeError: Cannot read property 'add_vertex' of undefined",
      "    at evalmachine.<anonymous>:2:21",
      "    at ContextifyScript.Script.runInThisContext (vm.js:50:33)",
      "    at Object.runInThisContext (vm.js:139:38)",
      "    at run ([eval]:1002:15)",
      "    at onRunRequest ([eval]:829:18)",
      "    at onMessage ([eval]:789:13)",
      "    at emitTwo (events.js:126:13)",
      "    at process.emit (events.js:214:7)",
      "    at emit (internal/child_process.js:772:12)",
      "    at _combinedTickCallback (internal/process/next_tick.js:141:11)"
     ]
    }
   ],
   "source": [
    "var last_vertex,\n",
    "  first_vertex = fd.add_vertex({cube: {size: 10, color: 0x000000}}),\n",
    "  picks = 255;\n",
    "var current_vertex = first_vertex;\n",
    "\n",
    "for(var i=0; i<picks; i++){\n",
    "  last_vertesassax = current_vertex;\n",
    "  current_vertex = fd.add_vertex({cube: {size: 100, color: Math.round(i*0xffffff/picks)}})\n",
    "  \n",
    "  if(last_vertex && current_vertex){\n",
    "    fd.add_edge(last_vertex, current_vertex);\n",
    "  }else{\n",
    "    fd.add_edge(first_vertex, current_vertex);\n",
    "  }\n",
    "}\n",
    "fd.add_edge(last_vertex, first_vertex);"
   ]
  },
  {
   "cell_type": "code",
   "execution_count": 14,
   "metadata": {},
   "outputs": [
    {
     "data": {
      "text/plain": [
       "8"
      ]
     },
     "execution_count": 14,
     "metadata": {},
     "output_type": "execute_result"
    }
   ],
   "source": [
    "var options = {\n",
    "    cube: {\n",
    "        size: 10,\n",
    "        color: 0x000000\n",
    "    }\n",
    "}\n",
    "\n",
    "var vertices = [];\n",
    "for(var i=0; i<8; i++){\n",
    "    vertices.push(fourd.add_vertex(options));\n",
    "}\n",
    "\n"
   ]
  },
  {
   "cell_type": "code",
   "execution_count": 15,
   "metadata": {},
   "outputs": [
    {
     "data": {
      "text/plain": [
       "7"
      ]
     },
     "execution_count": 15,
     "metadata": {},
     "output_type": "execute_result"
    }
   ],
   "source": [
    "for(var i=1; i<vertices.length; i++){\n",
    "    fourd.add_edge(vertices[i-1], vertices[i]);\n",
    "}\n",
    "fourd.add_edge(vertices[vertices.length-1], vertices[0])"
   ]
  },
  {
   "cell_type": "markdown",
   "metadata": {},
   "source": [
    "## Square Grid"
   ]
  },
  {
   "cell_type": "code",
   "execution_count": 16,
   "metadata": {},
   "outputs": [
    {
     "name": "stdout",
     "output_type": "stream",
     "text": [
      "server listening at http://localhost:64596\n"
     ]
    }
   ],
   "source": [
    "require('./FourDSocketProxyServer.js')().then(fourd =>{\n",
    "    fourd.clear();\n",
    "    var options = {cube: {size: 10, color: 0x000000}};\n",
    "\n",
    "    var rows = [];\n",
    "    for(var i=0; i<10; i++){\n",
    "        var column = [];\n",
    "        for(var j=0; j<10; j++){\n",
    "            column.push(fourd.add_vertex(options));\n",
    "            if(j>0){\n",
    "                fourd.add_edge(column[j], column[j-1]);\n",
    "            }\n",
    "            if(i>0){\n",
    "                fourd.add_edge(column[j], rows[i-1][j]);\n",
    "            }\n",
    "        }\n",
    "        rows.push(column);\n",
    "    }\n",
    "});\n"
   ]
  },
  {
   "cell_type": "markdown",
   "metadata": {},
   "source": [
    "## Cube"
   ]
  },
  {
   "cell_type": "code",
   "execution_count": null,
   "metadata": {},
   "outputs": [],
   "source": [
    "require('./FourDSocketProxyServer.js')().then(fourd =>{\n",
    "    fourd.clear();\n",
    "    var options = {cube: {size: 10, color: 0x000000}};\n",
    "\n",
    "    var depths = [];\n",
    "    for(var k=0; k<10; k++){\n",
    "        var rows = [];\n",
    "        for(var i=0; i<10; i++){\n",
    "            var column = [];\n",
    "            for(var j=0; j<10; j++){\n",
    "                column.push(fourd.add_vertex(options));\n",
    "                if(j>0){\n",
    "                    fourd.add_edge(column[j], column[j-1]);\n",
    "                }\n",
    "                if(i>0){\n",
    "                    fourd.add_edge(column[j], rows[i-1][j]);\n",
    "                }\n",
    "                if(k>0){\n",
    "                    fourd.add_edge(column[j], depths[k-1][i][j]);\n",
    "                }\n",
    "            }\n",
    "            rows.push(column);\n",
    "        }\n",
    "        depths.push(rows);\n",
    "    }\n",
    "});\n"
   ]
  }
 ],
 "metadata": {
  "kernelspec": {
   "display_name": "Javascript (Node.js)",
   "language": "javascript",
   "name": "javascript"
  },
  "language_info": {
   "file_extension": ".js",
   "mimetype": "application/javascript",
   "name": "javascript",
   "version": "8.9.4"
  }
 },
 "nbformat": 4,
 "nbformat_minor": 2
}
