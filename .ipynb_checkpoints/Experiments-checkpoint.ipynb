{
 "cells": [
  {
   "cell_type": "markdown",
   "metadata": {},
   "source": [
    "# Experiments\n",
    "\n",
    "[Joshua Marshall Moore](mailto:moore.joshua@pm.me)\n",
    "\n",
    "May 28th, 2018"
   ]
  },
  {
   "cell_type": "markdown",
   "metadata": {},
   "source": [
    "## Square Grid"
   ]
  },
  {
   "cell_type": "code",
   "execution_count": null,
   "metadata": {},
   "outputs": [],
   "source": [
    "var options = {cube: {size: 10, color: 0x000000}};\n",
    "\n",
    "require('./FourDSocketProxyServer.js')().then(fourd =>{\n",
    "    fourd.clear();\n",
    "\n",
    "    var rows = [];\n",
    "    for(var i=0; i<10; i++){\n",
    "        var column = [];\n",
    "        for(var j=0; j<10; j++){\n",
    "            column.push(fourd.add_vertex(options));\n",
    "            if(j>0){\n",
    "                fourd.add_edge(column[j], column[j-1]);\n",
    "            }\n",
    "            if(i>0){\n",
    "                fourd.add_edge(column[j], rows[i-1][j]);\n",
    "            }\n",
    "        }\n",
    "        rows.push(column);\n",
    "    }\n",
    "});\n"
   ]
  },
  {
   "cell_type": "markdown",
   "metadata": {},
   "source": [
    "## Cube"
   ]
  },
  {
   "cell_type": "code",
   "execution_count": null,
   "metadata": {},
   "outputs": [],
   "source": [
    "var SIZE = 5;\n",
    "var options = {cube: {size: 10, color: 0x0000ff}};\n",
    "\n",
    "require('./FourDSocketProxyServer.js')().then(fourd =>{\n",
    "    fourd.clear();\n",
    "    \n",
    "    var depths = [];\n",
    "    for(var k=0; k<SIZE; k++){\n",
    "        var rows = [];\n",
    "        for(var i=0; i<SIZE; i++){\n",
    "            var column = [];\n",
    "            for(var j=0; j<SIZE; j++){\n",
    "                column.push(fourd.add_vertex(options));\n",
    "                if(j>0){\n",
    "                    fourd.add_edge(column[j], column[j-1]);\n",
    "                }\n",
    "                if(i>0){\n",
    "                    fourd.add_edge(column[j], rows[i-1][j]);\n",
    "                }\n",
    "                if(k>0){\n",
    "                    fourd.add_edge(column[j], depths[k-1][i][j]);\n",
    "                }\n",
    "            }\n",
    "            rows.push(column);\n",
    "        }\n",
    "        depths.push(rows);\n",
    "    }\n",
    "});\n"
   ]
  },
  {
   "cell_type": "code",
   "execution_count": null,
   "metadata": {},
   "outputs": [],
   "source": []
  }
 ],
 "metadata": {
  "kernelspec": {
   "display_name": "Javascript (Node.js)",
   "language": "javascript",
   "name": "javascript"
  },
  "language_info": {
   "file_extension": ".js",
   "mimetype": "application/javascript",
   "name": "javascript",
   "version": "10.2.1"
  }
 },
 "nbformat": 4,
 "nbformat_minor": 2
}
