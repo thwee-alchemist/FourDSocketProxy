{
 "cells": [
  {
   "cell_type": "code",
   "execution_count": 2,
   "metadata": {},
   "outputs": [
    {
     "name": "stdout",
     "output_type": "stream",
     "text": [
      "DynamicMatching#4{|V|:0,|E|:0} rewiring DynamicMatching#3{|V|:0,|E|:0}'s add and delete.\n",
      "DynamicMatching#3{|V|:0,|E|:0} rewiring Graph#2{|V|:0,|E|:0}'s add and delete.\n",
      "TemporalGraph#3{|V|:[object Set],|E|:[object Set]}\n",
      "\n"
     ]
    }
   ],
   "source": [
    "\n",
    "var DynamicMatching = require('./DynamicMatching.js');\n",
    "var Util = require('./Util.js');\n",
    "var Vertex = require('./Vertex.js');\n",
    "var Edge = require('./Edge.js');\n",
    "var Graph = require('./Graph.js');\n",
    "var Range = require('./Range.js');\n",
    "var TemporalGraph = require('./TemporalGraph.js');\n",
    "\n",
    "var graph = new Graph();\n",
    "var dm = new DynamicMatching(graph, 1);\n",
    "var tgraph = new TemporalGraph(graph);\n",
    "var tdm = new TemporalGraph(dm);\n",
    "\n",
    "\n",
    "var v1 = new Vertex();\n",
    "var v2 = new Vertex();\n",
    "var v3 = new Vertex();\n",
    "var v4 = new Vertex();\n",
    "var v5 = new Vertex();\n",
    "var v6 = new Vertex();\n",
    "//console.log(v1);\n",
    "\n",
    "tgraph.add(v1);\n",
    "tgraph.add(v2);\n",
    "tgraph.add(v3);\n",
    "tgraph.add(v4);\n",
    "tgraph.add(v5);\n",
    "tgraph.add(v6);\n",
    "\n",
    "var e1 = new Edge(v1, v2);\n",
    "var e2 = new Edge(v1, v3);\n",
    "var e3 = new Edge(v2, v4);\n",
    "var e4 = new Edge(v3, v4);\n",
    "var e5 = new Edge(v3, v5);\n",
    "var e6 = new Edge(v4, v6);\n",
    "var e7 = new Edge(v5, v6);\n",
    "\n",
    "e1.order = 6;\n",
    "e2.order = 2;\n",
    "e3.order = 3;\n",
    "e4.order = 7;\n",
    "e5.order = 5;\n",
    "e6.order = 1;\n",
    "e7.order = 4;\n",
    "\n",
    "\n",
    "tgraph.add(e6);\n",
    "tgraph.add(e2);\n",
    "tgraph.add(e3);\n",
    "tgraph.add(e7);\n",
    "tgraph.add(e5);\n",
    "tgraph.add(e1);\n",
    "tgraph.add(e4);\n",
    "\n",
    "console.log(Util.print_all(tgraph));"
   ]
  },
  {
   "cell_type": "code",
   "execution_count": null,
   "metadata": {},
   "outputs": [],
   "source": []
  }
 ],
 "metadata": {
  "kernelspec": {
   "display_name": "Javascript (Node.js)",
   "language": "javascript",
   "name": "javascript"
  },
  "language_info": {
   "file_extension": ".js",
   "mimetype": "application/javascript",
   "name": "javascript",
   "version": "8.10.0"
  }
 },
 "nbformat": 4,
 "nbformat_minor": 2
}
