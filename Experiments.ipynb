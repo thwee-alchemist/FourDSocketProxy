{
 "cells": [
  {
   "cell_type": "markdown",
   "metadata": {},
   "source": [
    "# Experiments\n",
    "\n",
    "[moore.joshua@pm.me](mailto:moore.joshua@pm.me)\n",
    "\n",
    "May 18th, 2018"
   ]
  },
  {
   "cell_type": "markdown",
   "metadata": {},
   "source": [
    "## Round 1"
   ]
  },
  {
   "cell_type": "code",
   "execution_count": 4,
   "metadata": {},
   "outputs": [
    {
     "name": "stdout",
     "output_type": "stream",
     "text": [
      "listening on port 80\n",
      "Please open a page at http://localhost\n",
      "Page connected...\n"
     ]
    }
   ],
   "source": [
    "var fourd = require('./FourDSocketProxyServer.js').fourd;"
   ]
  },
  {
   "cell_type": "code",
   "execution_count": 5,
   "metadata": {},
   "outputs": [
    {
     "name": "stdout",
     "output_type": "stream",
     "text": [
      "{ add_vertex: [Function: add_vertex],\n",
      "  add_edge: [Function: add_edge],\n",
      "  remove_vertex: [Function: remove_vertex],\n",
      "  remove_edge: [Function: remove_edge],\n",
      "  clear: [Function: clear],\n",
      "  vertices: Set {},\n",
      "  edges: Set {} }\n"
     ]
    }
   ],
   "source": [
    "console.dir(fourd);"
   ]
  },
  {
   "cell_type": "code",
   "execution_count": 6,
   "metadata": {},
   "outputs": [],
   "source": [
    "fourd.clear()"
   ]
  },
  {
   "cell_type": "code",
   "execution_count": 12,
   "metadata": {},
   "outputs": [],
   "source": [
    "var a = fourd.add_vertex({cube: {size: 10, color: 0x000000}});\n",
    "var b = fourd.add_vertex({cube: {size: 10, color: 0x000000}});"
   ]
  },
  {
   "cell_type": "code",
   "execution_count": 13,
   "metadata": {},
   "outputs": [
    {
     "name": "stdout",
     "output_type": "stream",
     "text": [
      "a: 2 b: 3\n"
     ]
    }
   ],
   "source": [
    "console.log('a:', parseInt(a), 'b:',parseInt(b));"
   ]
  },
  {
   "cell_type": "code",
   "execution_count": 14,
   "metadata": {},
   "outputs": [],
   "source": [
    "var e = fourd.add_edge(a, b);"
   ]
  },
  {
   "cell_type": "code",
   "execution_count": 10,
   "metadata": {},
   "outputs": [],
   "source": [
    "fourd.remove_edge(e);"
   ]
  },
  {
   "cell_type": "code",
   "execution_count": 11,
   "metadata": {},
   "outputs": [],
   "source": [
    "fourd.remove_vertex(a);\n",
    "fourd.remove_vertex(b);"
   ]
  },
  {
   "cell_type": "code",
   "execution_count": null,
   "metadata": {},
   "outputs": [],
   "source": []
  }
 ],
 "metadata": {
  "kernelspec": {
   "display_name": "Javascript (Node.js)",
   "language": "javascript",
   "name": "javascript"
  },
  "language_info": {
   "file_extension": ".js",
   "mimetype": "application/javascript",
   "name": "javascript",
   "version": "8.9.4"
  }
 },
 "nbformat": 4,
 "nbformat_minor": 2
}
