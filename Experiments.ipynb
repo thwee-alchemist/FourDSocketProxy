{
 "cells": [
  {
   "cell_type": "markdown",
   "metadata": {},
   "source": [
    "# Experiments\n",
    "\n",
    "[Joshua Marshall Moore](mailto:moore.joshua@pm.me)\n",
    "\n",
    "May 18th, 2018"
   ]
  },
  {
   "cell_type": "markdown",
   "metadata": {},
   "source": [
    "## Round 1"
   ]
  },
  {
   "cell_type": "code",
   "execution_count": 11,
   "metadata": {},
   "outputs": [],
   "source": [
    "var fetch_fourd = require('./FourDSocketProxyServer.js');"
   ]
  },
  {
   "cell_type": "code",
   "execution_count": 14,
   "metadata": {},
   "outputs": [
    {
     "ename": "TypeError",
     "evalue": "Cannot read property 'port' of undefined",
     "execution_count": 14,
     "output_type": "error",
     "traceback": [
      "TypeError: Cannot read property 'port' of undefined",
      "    at module.exports (C:\\Users\\Joshua\\FourDSocketProxy\\FourDSocketProxyServer.js:26:34)",
      "    at evalmachine.<anonymous>:1:1",
      "    at ContextifyScript.Script.runInThisContext (vm.js:50:33)",
      "    at Object.runInThisContext (vm.js:139:38)",
      "    at run ([eval]:1002:15)",
      "    at onRunRequest ([eval]:829:18)",
      "    at onMessage ([eval]:789:13)",
      "    at emitTwo (events.js:126:13)",
      "    at process.emit (events.js:214:7)",
      "    at emit (internal/child_process.js:772:12)"
     ]
    }
   ],
   "source": [
    "fetch_fourd().then(fourd => {\n",
    "    var a = fourd.add_vertex({cube: {size: 10, color: 0x000000}});\n",
    "    var b = fourd.add_vertex({cube: {size: 10, color: 0x000000}});\n",
    "    console.log(a, b);\n",
    "    var e = fourd.add_edge(a, b);\n",
    "})"
   ]
  },
  {
   "cell_type": "code",
   "execution_count": 3,
   "metadata": {},
   "outputs": [],
   "source": [
    "var a = fourd.add_vertex({cube: {size: 10, color: 0x000000}});\n",
    "var b = fourd.add_vertex({cube: {size: 10, color: 0x000000}});"
   ]
  },
  {
   "cell_type": "code",
   "execution_count": 26,
   "metadata": {},
   "outputs": [
    {
     "name": "stdout",
     "output_type": "stream",
     "text": [
      "a: 0 b: 1\n"
     ]
    }
   ],
   "source": [
    "console.log('a:', parseInt(a), 'b:', parseInt(b));"
   ]
  },
  {
   "cell_type": "code",
   "execution_count": 4,
   "metadata": {},
   "outputs": [],
   "source": [
    "var e = fourd.add_edge(a, b);"
   ]
  },
  {
   "cell_type": "code",
   "execution_count": 28,
   "metadata": {},
   "outputs": [
    {
     "name": "stdout",
     "output_type": "stream",
     "text": [
      "0\n"
     ]
    }
   ],
   "source": [
    "console.log(e);"
   ]
  },
  {
   "cell_type": "code",
   "execution_count": 4,
   "metadata": {},
   "outputs": [],
   "source": [
    "fourd.remove_edge(e);"
   ]
  },
  {
   "cell_type": "code",
   "execution_count": 5,
   "metadata": {},
   "outputs": [],
   "source": [
    "fourd.remove_vertex(a);"
   ]
  },
  {
   "cell_type": "code",
   "execution_count": 6,
   "metadata": {},
   "outputs": [
    {
     "name": "stdout",
     "output_type": "stream",
     "text": [
      "Page connected...\n",
      "Page connected...\n",
      "Page connected...\n",
      "Page connected...\n"
     ]
    }
   ],
   "source": [
    "fourd.remove_vertex(b);"
   ]
  },
  {
   "cell_type": "markdown",
   "metadata": {},
   "source": [
    "## Round 2"
   ]
  },
  {
   "cell_type": "code",
   "execution_count": 2,
   "metadata": {},
   "outputs": [
    {
     "data": {
      "text/plain": [
       "255"
      ]
     },
     "execution_count": 2,
     "metadata": {},
     "output_type": "execute_result"
    }
   ],
   "source": [
    "var last_vertex,\n",
    "  first_vertex = fourd.add_vertex({cube: {size: 10, color: 0x000000}}),\n",
    "  picks = 255;\n",
    "var current_vertex = first_vertex;\n",
    "\n",
    "for(var i=0; i<picks; i++){\n",
    "  last_vertesassax = current_vertex;\n",
    "  current_vertex = fourd.add_vertex({cube: {size: 100, color: Math.round(i*0xffffff/picks)}})\n",
    "  \n",
    "  if(last_vertex && current_vertex){\n",
    "    fourd.add_edge(last_vertex, current_vertex);\n",
    "  }else{\n",
    "    fourd.add_edge(first_vertex, current_vertex);\n",
    "  }\n",
    "}\n",
    "fourd.add_edge(last_vertex, first_vertex);"
   ]
  },
  {
   "cell_type": "code",
   "execution_count": 14,
   "metadata": {},
   "outputs": [
    {
     "data": {
      "text/plain": [
       "8"
      ]
     },
     "execution_count": 14,
     "metadata": {},
     "output_type": "execute_result"
    }
   ],
   "source": [
    "var options = {\n",
    "    cube: {\n",
    "        size: 10,\n",
    "        color: 0x000000\n",
    "    }\n",
    "}\n",
    "\n",
    "var vertices = [];\n",
    "for(var i=0; i<8; i++){\n",
    "    vertices.push(fourd.add_vertex(options));\n",
    "}\n",
    "\n"
   ]
  },
  {
   "cell_type": "code",
   "execution_count": 15,
   "metadata": {},
   "outputs": [
    {
     "data": {
      "text/plain": [
       "7"
      ]
     },
     "execution_count": 15,
     "metadata": {},
     "output_type": "execute_result"
    }
   ],
   "source": [
    "for(var i=1; i<vertices.length; i++){\n",
    "    fourd.add_edge(vertices[i-1], vertices[i]);\n",
    "}\n",
    "fourd.add_edge(vertices[vertices.length-1], vertices[0])"
   ]
  },
  {
   "cell_type": "markdown",
   "metadata": {},
   "source": [
    "# Square Grid"
   ]
  },
  {
   "cell_type": "code",
   "execution_count": 2,
   "metadata": {},
   "outputs": [
    {
     "ename": "TypeError",
     "evalue": "fourd.add_vertex is not a function",
     "execution_count": 2,
     "output_type": "error",
     "traceback": [
      "evalmachine.<anonymous>:7",
      "        column.push(fourd.add_vertex(options));",
      "                          ^",
      "",
      "TypeError: fourd.add_vertex is not a function",
      "    at evalmachine.<anonymous>:7:27",
      "    at ContextifyScript.Script.runInThisContext (vm.js:50:33)",
      "    at Object.runInThisContext (vm.js:139:38)",
      "    at run ([eval]:1002:15)",
      "    at onRunRequest ([eval]:829:18)",
      "    at onMessage ([eval]:789:13)",
      "    at emitTwo (events.js:126:13)",
      "    at process.emit (events.js:214:7)",
      "    at emit (internal/child_process.js:772:12)",
      "    at _combinedTickCallback (internal/process/next_tick.js:141:11)"
     ]
    }
   ],
   "source": [
    "var options = {cube: {size: 10, color: 0x000000}};\n",
    "\n",
    "var rows = [];\n",
    "for(var i=0; i<10; i++){\n",
    "    var column = [];\n",
    "    for(var j=0; j<10; j++){\n",
    "        column.push(fourd.add_vertex(options));\n",
    "        if(j>0){\n",
    "            fourd.add_edge(column[j], column[j-1]);\n",
    "        }\n",
    "        if(i>0){\n",
    "            fourd.add_edge(column[j], rows[i-1][j]);\n",
    "        }\n",
    "    }\n",
    "    rows.push(column);\n",
    "}"
   ]
  },
  {
   "cell_type": "code",
   "execution_count": null,
   "metadata": {},
   "outputs": [],
   "source": []
  },
  {
   "cell_type": "code",
   "execution_count": null,
   "metadata": {},
   "outputs": [],
   "source": []
  }
 ],
 "metadata": {
  "kernelspec": {
   "display_name": "Javascript (Node.js)",
   "language": "javascript",
   "name": "javascript"
  },
  "language_info": {
   "file_extension": ".js",
   "mimetype": "application/javascript",
   "name": "javascript",
   "version": "8.9.4"
  }
 },
 "nbformat": 4,
 "nbformat_minor": 2
}
