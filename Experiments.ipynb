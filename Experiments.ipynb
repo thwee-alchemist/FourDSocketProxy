{
 "cells": [
  {
   "cell_type": "markdown",
   "metadata": {},
   "source": [
    "# Experiments"
   ]
  },
  {
   "cell_type": "markdown",
   "metadata": {},
   "source": [
    "![grid](img/grid.png)"
   ]
  },
  {
   "cell_type": "markdown",
   "metadata": {},
   "source": [
    "## Square Grid"
   ]
  },
  {
   "cell_type": "code",
   "execution_count": 3,
   "metadata": {},
   "outputs": [
    {
     "name": "stdout",
     "output_type": "stream",
     "text": [
      "server listening at http://localhost:46468\n"
     ]
    }
   ],
   "source": [
    "var SIZE = 20;\n",
    "\n",
    "require('./FourDSocketProxyServer.js')().then(fourd =>{\n",
    "    fourd.clear();\n",
    "    var options = {cube: {size: 10, color: 0x000000}};\n",
    "\n",
    "    var rows = [];\n",
    "    for(var i=0; i<SIZE; i++){\n",
    "        var column = [];\n",
    "        for(var j=0; j<SIZE; j++){\n",
    "            column.push(fourd.add_vertex(options));\n",
    "            if(j>0){\n",
    "                fourd.add_edge(column[j], column[j-1]);\n",
    "            }\n",
    "            if(i>0){\n",
    "                fourd.add_edge(column[j], rows[i-1][j]);\n",
    "            }\n",
    "        }\n",
    "        rows.push(column);\n",
    "    }\n",
    "});\n"
   ]
  },
  {
   "cell_type": "markdown",
   "metadata": {},
   "source": [
    "## Cube"
   ]
  },
  {
   "cell_type": "code",
   "execution_count": 11,
   "metadata": {},
   "outputs": [
    {
     "name": "stdout",
     "output_type": "stream",
     "text": [
      "server listening at http://localhost:42180\n"
     ]
    }
   ],
   "source": [
    "var SIZE = 5;\n",
    "require('./FourDSocketProxyServer.js')().then(fourd =>{\n",
    "    fourd.clear();\n",
    "    var options = {cube: {size: 10, color: 0x000000}};\n",
    "\n",
    "    var depths = [];\n",
    "    for(var k=0; k<SIZE; k++){\n",
    "        var rows = [];\n",
    "        for(var i=0; i<SIZE; i++){\n",
    "            var column = [];\n",
    "            for(var j=0; j<SIZE; j++){\n",
    "                column.push(fourd.add_vertex(options));\n",
    "                if(j>0){\n",
    "                    fourd.add_edge(column[j], column[j-1]);\n",
    "                }\n",
    "                if(i>0){\n",
    "                    fourd.add_edge(column[j], rows[i-1][j]);\n",
    "                }\n",
    "                if(k>0){\n",
    "                    fourd.add_edge(column[j], depths[k-1][i][j]);\n",
    "                }\n",
    "            }\n",
    "            rows.push(column);\n",
    "        }\n",
    "        depths.push(rows);\n",
    "\n",
    "    }\n",
    "});\n"
   ]
  },
  {
   "cell_type": "markdown",
   "metadata": {},
   "source": [
    "## Hairball Graph"
   ]
  },
  {
   "cell_type": "code",
   "execution_count": 10,
   "metadata": {},
   "outputs": [
    {
     "name": "stdout",
     "output_type": "stream",
     "text": [
      "server listening at http://localhost:45795\n"
     ]
    }
   ],
   "source": [
    "var VERTICES = 10;\n",
    "var EDGES = 200;\n",
    "\n",
    "var options = {cube: {size: 10, color: 0x000000}};\n",
    "\n",
    "require('./FourDSocketProxyServer.js')().then(fourd => {\n",
    "    var random_vertex = function(){\n",
    "        var vertex = null;\n",
    "        var vertices = Array.from(fourd.vertices);\n",
    "        return vertices[Math.round(Math.random() * vertices.length)];\n",
    "    }\n",
    "    \n",
    "    for(var i=0; i<VERTICES; i++){\n",
    "        fourd.add_vertex(options);\n",
    "    }\n",
    "    \n",
    "    for(var i=0; i<EDGES; i++){\n",
    "        fourd.add_edge(random_vertex(), random_vertex());\n",
    "    }\n",
    "})"
   ]
  },
  {
   "cell_type": "markdown",
   "metadata": {},
   "source": [
    "## Callback Tree"
   ]
  },
  {
   "cell_type": "code",
   "execution_count": 4,
   "metadata": {},
   "outputs": [
    {
     "name": "stdout",
     "output_type": "stream",
     "text": [
      "server listening at http://localhost:34589\n"
     ]
    }
   ],
   "source": [
    "var options = {cube: {size: 10, color: 0xffffff}};\n",
    "\n",
    "require('./FourDSocketProxyServer.js')().then(fourd => {\n",
    "    fourd.on('click', function(event){\n",
    "        var new_vertex = fourd.add_vertex(options);\n",
    "        var selected_vertex = event.vertex_id;\n",
    "        fourd.add_edge(selected_vertex, new_vertex);\n",
    "    });\n",
    "    \n",
    "    fourd.add_vertex(options);\n",
    "});"
   ]
  },
  {
   "cell_type": "markdown",
   "metadata": {},
   "source": [
    "## New!!! Callback Tree with Directed Edges"
   ]
  },
  {
   "cell_type": "code",
   "execution_count": 6,
   "metadata": {},
   "outputs": [
    {
     "name": "stdout",
     "output_type": "stream",
     "text": [
      "server listening at http://localhost:39382\n"
     ]
    }
   ],
   "source": [
    "var options = {cube: {size: 10, color: 0xffffff}};\n",
    "\n",
    "require('./FourDSocketProxyServer.js')().then(fourd => {\n",
    "    fourd.on('click', function(event){\n",
    "        var new_vertex = fourd.add_vertex(options);\n",
    "        var selected_vertex = event.vertex_id;\n",
    "        fourd.add_edge(selected_vertex, new_vertex, {directed: true});\n",
    "    });\n",
    "    \n",
    "    fourd.add_vertex(options);\n",
    "});"
   ]
  },
  {
   "cell_type": "markdown",
   "metadata": {},
   "source": [
    "## Picture Textures"
   ]
  },
  {
   "cell_type": "code",
   "execution_count": 7,
   "metadata": {},
   "outputs": [
    {
     "name": "stdout",
     "output_type": "stream",
     "text": [
      "server listening at http://localhost:40409\n"
     ]
    }
   ],
   "source": [
    "var options = {cube: {size: 10, texture: '/joshua.marshall.moore.jpg'}};\n",
    "\n",
    "require('./FourDSocketProxyServer.js')().then(fourd => {\n",
    "    fourd.add_vertex(options);\n",
    "    \n",
    "    fourd.on('click', function(event){\n",
    "        var new_vertex = fourd.add_vertex(options);\n",
    "        var selected_vertex = event.vertex_id;\n",
    "        fourd.add_edge(selected_vertex, new_vertex, {directed: true});\n",
    "    });\n",
    "    \n",
    "})"
   ]
  },
  {
   "cell_type": "markdown",
   "metadata": {},
   "source": [
    "# Labels"
   ]
  },
  {
   "cell_type": "code",
   "execution_count": 8,
   "metadata": {},
   "outputs": [
    {
     "name": "stdout",
     "output_type": "stream",
     "text": [
      "server listening at http://localhost:35310\n"
     ]
    }
   ],
   "source": [
    "require('./FourDSocketProxyServer.js')().then(fourd => {\n",
    "    var i = 0;\n",
    "    var options = {\n",
    "        cube: {size: 10, color: 0xffffff},\n",
    "        label: {text: i.toString()}\n",
    "    };\n",
    "    fourd.add_vertex(options);\n",
    "    \n",
    "    fourd.on('click', function(event){\n",
    "        i++;\n",
    "        var options = {\n",
    "            cube: {size: 10, color: 0x000000},\n",
    "            label: {text: i.toString()}\n",
    "        };\n",
    "        var new_vertex = fourd.add_vertex(options);\n",
    "        var selected = event.vertex_id;\n",
    "        fourd.add_edge(selected, new_vertex, {directed: true});\n",
    "    });\n",
    "});"
   ]
  },
  {
   "cell_type": "code",
   "execution_count": null,
   "metadata": {},
   "outputs": [],
   "source": []
  }
 ],
 "metadata": {
  "kernelspec": {
   "display_name": "Javascript (Node.js)",
   "language": "javascript",
   "name": "javascript"
  },
  "language_info": {
   "file_extension": ".js",
   "mimetype": "application/javascript",
   "name": "javascript",
   "version": "6.14.3"
  }
 },
 "nbformat": 4,
 "nbformat_minor": 2
}
