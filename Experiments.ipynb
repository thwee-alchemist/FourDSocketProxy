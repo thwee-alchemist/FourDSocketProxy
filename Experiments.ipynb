{
 "cells": [
  {
   "cell_type": "markdown",
   "metadata": {},
   "source": [
    "# Experiments"
   ]
  },
  {
   "cell_type": "markdown",
   "metadata": {},
   "source": [
    "## Square Grid"
   ]
  },
  {
   "cell_type": "code",
   "execution_count": 4,
   "metadata": {},
   "outputs": [
    {
     "name": "stdout",
     "output_type": "stream",
     "text": [
      "server listening at http://localhost:50594\n"
     ]
    }
   ],
   "source": [
    "var SIZE = 10;\n",
    "\n",
    "require('./FourDSocketProxyServer.js')().then(fourd =>{\n",
    "    fourd.clear();\n",
    "    var options = {cube: {size: 10, color: 0x0000ff}};\n",
    "\n",
    "    var rows = [];\n",
    "    for(var i=0; i<SIZE; i++){\n",
    "        var column = [];\n",
    "        for(var j=0; j<SIZE; j++){\n",
    "            column.push(fourd.add_vertex(options));\n",
    "            if(j>0){\n",
    "                fourd.add_edge(column[j], column[j-1]);\n",
    "            }\n",
    "            if(i>0){\n",
    "                fourd.add_edge(column[j], rows[i-1][j]);\n",
    "            }\n",
    "        }\n",
    "        rows.push(column);\n",
    "    }\n",
    "});\n"
   ]
  },
  {
   "cell_type": "markdown",
   "metadata": {},
   "source": [
    "## Cube"
   ]
  },
  {
   "cell_type": "code",
   "execution_count": 4,
   "metadata": {},
   "outputs": [
    {
     "name": "stdout",
     "output_type": "stream",
     "text": [
      "server listening at http://localhost:53839\n",
      "mouse click: vertex 49, button: 1\n"
     ]
    }
   ],
   "source": [
    "var SIZE = 5;\n",
    "require('./FourDSocketProxyServer.js')().then(fourd =>{\n",
    "    fourd.clear();\n",
    "    var options = {cube: {size: 10, color: 0x0000ff}};\n",
    "\n",
    "    var depths = [];\n",
    "    for(var k=0; k<SIZE; k++){\n",
    "        var rows = [];\n",
    "        for(var i=0; i<SIZE; i++){\n",
    "            var column = [];\n",
    "            for(var j=0; j<SIZE; j++){\n",
    "                column.push(fourd.add_vertex(options));\n",
    "                if(j>0){\n",
    "                    fourd.add_edge(column[j], column[j-1]);\n",
    "                }\n",
    "                if(i>0){\n",
    "                    fourd.add_edge(column[j], rows[i-1][j]);\n",
    "                }\n",
    "                if(k>0){\n",
    "                    fourd.add_edge(column[j], depths[k-1][i][j]);\n",
    "                }\n",
    "            }\n",
    "            rows.push(column);\n",
    "        }\n",
    "        depths.push(rows);\n",
    "    }\n",
    "});\n"
   ]
  },
  {
   "cell_type": "markdown",
   "metadata": {},
   "source": [
    "## Hairball Graph"
   ]
  },
  {
   "cell_type": "code",
   "execution_count": 1,
   "metadata": {},
   "outputs": [
    {
     "name": "stdout",
     "output_type": "stream",
     "text": [
      "server listening at http://localhost:16100\n"
     ]
    }
   ],
   "source": [
    "var VERTICES = 100;\n",
    "var EDGES = 200;\n",
    "\n",
    "var options = {cube: {size: 10, color: 0x0000ff}};\n",
    "\n",
    "require('./FourDSocketProxyServer.js')().then(fourd => {\n",
    "    var random_vertex = function(){\n",
    "        var vertex = null;\n",
    "        var vertices = Array.from(fourd.vertices);\n",
    "        return vertices[Math.round(Math.random() * vertices.length)];\n",
    "    }\n",
    "    \n",
    "    for(var i=0; i<VERTICES; i++){\n",
    "        fourd.add_vertex(options);\n",
    "    }\n",
    "    \n",
    "    for(var i=0; i<EDGES; i++){\n",
    "        fourd.add_edge(random_vertex(), random_vertex());\n",
    "    }\n",
    "})"
   ]
  },
  {
   "cell_type": "markdown",
   "metadata": {},
   "source": [
    "## Social Cartography"
   ]
  },
  {
   "cell_type": "code",
   "execution_count": 2,
   "metadata": {},
   "outputs": [
    {
     "name": "stdout",
     "output_type": "stream",
     "text": [
      "server listening at http://localhost:49374\n"
     ]
    }
   ],
   "source": [
    "var PERSONS = 100;\n",
    "var GROUPS = 250;\n",
    "var ROLES = 1000;\n",
    "\n",
    "var person_options = {cube: {size: 10, color: 0x0000ff}};\n",
    "var group_options = {cube: {size: 10, color: 0x00ff00}};\n",
    "var role_options = {cube: {size: 10, color: 0xff0000}};\n",
    "\n",
    "var persons = [];\n",
    "var groups = [];\n",
    "var roles = [];\n",
    "\n",
    "var random_vertex = function(arr){\n",
    "    var vertex = null;\n",
    "    var vertices = arr;\n",
    "    return vertices[Math.round(Math.random() * vertices.length)];\n",
    "}\n",
    "\n",
    "require('./FourDSocketProxyServer.js')().then(fourd => {\n",
    "    for(var i=0; i<PERSONS; i++){\n",
    "        persons.push(fourd.add_vertex(person_options));\n",
    "    }\n",
    "    \n",
    "    for(var i=0; i<GROUPS; i++){\n",
    "        groups.push(fourd.add_vertex(group_options));\n",
    "    }\n",
    "    \n",
    "    for(var i=0; i<ROLES; i++){\n",
    "        var role = fourd.add_vertex(role_options);\n",
    "        fourd.add_edge(role, random_vertex(persons));\n",
    "        fourd.add_edge(role, random_vertex(groups));\n",
    "    }\n",
    "});"
   ]
  },
  {
   "cell_type": "code",
   "execution_count": null,
   "metadata": {},
   "outputs": [],
   "source": []
  }
 ],
 "metadata": {
  "kernelspec": {
   "display_name": "Javascript (Node.js)",
   "language": "javascript",
   "name": "javascript"
  },
  "language_info": {
   "file_extension": ".js",
   "mimetype": "application/javascript",
   "name": "javascript",
   "version": "8.9.4"
  }
 },
 "nbformat": 4,
 "nbformat_minor": 2
}
